{
 "cells": [
  {
   "cell_type": "markdown",
   "metadata": {},
   "source": [
    "## PyCluster\n",
    "\n",
    "### Set environmental variables\n",
    "\n",
    "In order to properly load modules within this notebook from outside the repository folder, set the script **PATH** below,  e.g. ```C:/PyCluster```:"
   ]
  },
  {
   "cell_type": "code",
   "execution_count": null,
   "metadata": {
    "scrolled": true
   },
   "outputs": [],
   "source": [
    "PATH = \"/path/to/PyCluster\" # <-- optional if running from native path"
   ]
  },
  {
   "cell_type": "code",
   "execution_count": null,
   "metadata": {
    "scrolled": true
   },
   "outputs": [],
   "source": [
    "import importlib.util, os\n",
    "\n",
    "if not os.path.isdir(PATH):\n",
    "    PATH = os.getcwd()\n",
    "PATH = os.path.realpath(PATH)\n",
    "\n",
    "spec = importlib.util.spec_from_file_location(\"__init__\", PATH+'/__init__.py')\n",
    "init = importlib.util.module_from_spec(spec)\n",
    "spec.loader.exec_module(init)\n",
    "\n",
    "%matplotlib inline\n",
    "%load_ext autoreload\n",
    "%autoreload 2"
   ]
  },
  {
   "cell_type": "markdown",
   "metadata": {},
   "source": [
    "### Import functions"
   ]
  },
  {
   "cell_type": "code",
   "execution_count": null,
   "metadata": {
    "scrolled": true
   },
   "outputs": [],
   "source": [
    "import json\n",
    "\n",
    "import numpy as np\n",
    "import plotly.offline as py\n",
    "\n",
    "from chart import line_chart\n",
    "from clusterize import clusterize\n",
    "\n",
    "py.init_notebook_mode(connected=True)"
   ]
  },
  {
   "cell_type": "markdown",
   "metadata": {},
   "source": [
    "### Analyze data\n",
    "\n",
    "Required to choose between one of existing input data types to clusterize: `tweets`, `media` or `text` (file/folder)."
   ]
  },
  {
   "cell_type": "code",
   "execution_count": null,
   "metadata": {
    "scrolled": true
   },
   "outputs": [],
   "source": [
    "input_name = \"\"\n",
    "data_type  = \"\""
   ]
  },
  {
   "cell_type": "markdown",
   "metadata": {},
   "source": [
    "#### Advanced settings\n",
    "\n",
    "Allows setting interval to split data and perform k-value accuracy tests. Alternatively, leave `k_value` as `0` for elbow method (auto-detection)."
   ]
  },
  {
   "cell_type": "code",
   "execution_count": null,
   "metadata": {
    "scrolled": true
   },
   "outputs": [],
   "source": [
    "k_value = 0                 # set number of clusters\n",
    "min_k = 2                   # minimum number of clusters\n",
    "max_k = 8                   # maximum nmber of clusters\n",
    "max_iter = 300              # maximum K-Means iterations\n",
    "\n",
    "n_features = 0              # number of tweets X axis\n",
    "n_dimensions = 0            # number of words Y axis\n",
    "batch_size = 100            # size of the mini-batches\n",
    "s_samples = None            # samples for silhouette\n",
    "g_nrefs = 3                 # references for gap statistics\n",
    "\n",
    "num_days = 0                # interval to split data\n",
    "words_in_cloud = 100        # maximum words in clouds\n",
    "sort_by = 'degree'          # centrality measure to sort by\n",
    "\n",
    "idf = True                  # perform tf-idf weighing\n",
    "minibatch = False           # faster at expense of accuracy\n",
    "stemming = False            # remove affixes forom words\n",
    "\n",
    "elbow_method = False        # within-cluster sum of squares\n",
    "silhouette_scores = False   # silhouette coefficients\n",
    "gap_statistics = False      # calculate gap statistics\n",
    "\n",
    "all_metrics = False         # virality/ASS/topic complexity\n",
    "\n",
    "inline = True               # plot k-value analysis\n",
    "output_folder = 'PYCLUSTER' # output folder name\n",
    "\n",
    "random_state = None         # optionally store random seed\n",
    "\n",
    "np.random.seed(random_state)"
   ]
  },
  {
   "cell_type": "markdown",
   "metadata": {},
   "source": [
    "#### Read and cluster data\n",
    "\n",
    "Calculate the appropriate **k** number of clusters for k-means if unset and start data analysis."
   ]
  },
  {
   "cell_type": "code",
   "execution_count": null,
   "metadata": {
    "scrolled": false
   },
   "outputs": [],
   "source": [
    "df, ag, tg = clusterize(input_name,\n",
    "                        data_type,\n",
    "                        k=k_value,\n",
    "                        min_k=min_k,\n",
    "                        max_k=max_k,\n",
    "                        max_iter=max_iter,\n",
    "                        n_features=n_features,\n",
    "                        n_dimensions=n_dimensions,\n",
    "                        batch_size=batch_size,\n",
    "                        s_samples=s_samples,\n",
    "                        g_nrefs=g_nrefs,\n",
    "                        interval=num_days,\n",
    "                        words_in_cloud=words_in_cloud,\n",
    "                        idf=idf,\n",
    "                        minibatch=minibatch,\n",
    "                        wss=elbow_method,\n",
    "                        sil=silhouette_scores,\n",
    "                        gap=gap_statistics,\n",
    "                        all_metrics=all_metrics,\n",
    "                        stemming=stemming,\n",
    "                        random_state=random_state,\n",
    "                        output_folder=output_folder,\n",
    "                        inline=inline)"
   ]
  },
  {
   "cell_type": "markdown",
   "metadata": {},
   "source": [
    "### Attention graph\n",
    "\n",
    "Plot overall narrative attention over time, i.e. the amount of input data during the period analyzed. **Tip:** smaller time frames result in more detailed steps."
   ]
  },
  {
   "cell_type": "code",
   "execution_count": null,
   "metadata": {
    "scrolled": false
   },
   "outputs": [],
   "source": [
    "line_chart(ag, inline=True)"
   ]
  },
  {
   "cell_type": "markdown",
   "metadata": {},
   "source": [
    "### Themed graph\n",
    "\n",
    "Plot clusters and their attention over time. **Note:** groups are named after their most occurring word, but defined by word co-occurrences (k-means)."
   ]
  },
  {
   "cell_type": "code",
   "execution_count": null,
   "metadata": {
    "scrolled": true
   },
   "outputs": [],
   "source": [
    "line_chart(tg, inline=True)"
   ]
  },
  {
   "cell_type": "markdown",
   "metadata": {},
   "source": [
    "### Filter data by cluster\n",
    "\n",
    "Returns data frame with detailed data on a specific cluster **k**. By default, shows objects from the first cluster (`k=0`)."
   ]
  },
  {
   "cell_type": "code",
   "execution_count": null,
   "metadata": {},
   "outputs": [],
   "source": [
    "k = 0\n",
    "\n",
    "df_ = df[df['cluster'] == k]; df_\n",
    "\n",
    "#df_.to_csv('%s/cluster_%s.csv' % (output_folder, k)) # <-- uncomment to save as CSV file"
   ]
  },
  {
   "cell_type": "markdown",
   "metadata": {},
   "source": [
    "#### Filter data for all clusters (!)\n",
    "\n",
    "Output all data filtered by clusters as CSV files."
   ]
  },
  {
   "cell_type": "code",
   "execution_count": null,
   "metadata": {},
   "outputs": [],
   "source": [
    "for k in sorted(df['cluster'].unique()):\n",
    "    df_ = df[df['cluster'] == k]\n",
    "    df_.to_csv('%s/cluster_%s.csv' % (output_folder, k))"
   ]
  },
  {
   "cell_type": "markdown",
   "metadata": {},
   "source": [
    "#### Compress output →  `output.zip`"
   ]
  },
  {
   "cell_type": "code",
   "execution_count": null,
   "metadata": {},
   "outputs": [],
   "source": [
    "!zip -r output.zip PYCLUSTER"
   ]
  },
  {
   "cell_type": "markdown",
   "metadata": {},
   "source": [
    "### [Download output files](output.zip)"
   ]
  },
  {
   "cell_type": "markdown",
   "metadata": {},
   "source": [
    "_____\n",
    "\n",
    "### References:\n",
    "\n",
    "* Scipy: [documentation](https://www.scipy.org/) | [GitHub](https://github.com/scipy/scipy)\n",
    "\n",
    "* Scikit-learn: [documentation](https://scikit-learn.org/stable/documentation.html) | [GitHub](https://github.com/scipy/scipy)\n",
    "\n",
    "* Mini-Batch K-means : [article](https://www.eecs.tufts.edu/~dsculley/papers/fastkmeans.pdf) | [scikit-learn](https://scikit-learn.org/stable/modules/generated/sklearn.cluster.MiniBatchKMeans.html#sklearn.cluster.MiniBatchKMeans)\n",
    "\n",
    "* Silhouette scores: [article](https://doi.org/10.1016/0377-0427(87)90125-7) | [scikit-learn](http://scikit-learn.org/stable/modules/generated/sklearn.metrics.silhouette_score.html)\n",
    "\n",
    "* Gap statistics: [article](https://statweb.stanford.edu/~gwalther/gap) | [anaconda](https://anaconda.org/milesgranger/gap-statistic/notebook)\n",
    "\n",
    "* Wordle algorithm due to: [Jonathan Feinberg](http://static.mrfeinberg.com/bv_ch03.pdf)\n",
    "\n",
    "* Original d3-cloud by Jason Davies: [GitHub](http://github.com/jasondavies/d3-cloud)\n",
    "\n",
    "* Based on twarc's implementation: [GitHub](https://github.com/DocNow/twarc)"
   ]
  }
 ],
 "metadata": {
  "kernelspec": {
   "display_name": "Python 3",
   "language": "python",
   "name": "python3"
  },
  "language_info": {
   "codemirror_mode": {
    "name": "ipython",
    "version": 3
   },
   "file_extension": ".py",
   "mimetype": "text/x-python",
   "name": "python",
   "nbconvert_exporter": "python",
   "pygments_lexer": "ipython3",
   "version": "3.8.2"
  },
  "vscode": {
   "interpreter": {
    "hash": "31f2aee4e71d21fbe5cf8b01ff0e069b9275f58929596ceb00d14d90e3e16cd6"
   }
  }
 },
 "nbformat": 4,
 "nbformat_minor": 2
}
